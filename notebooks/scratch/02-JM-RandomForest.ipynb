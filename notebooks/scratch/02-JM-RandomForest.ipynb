{
 "cells": [
  {
   "cell_type": "code",
   "execution_count": 3,
   "metadata": {},
   "outputs": [],
   "source": [
    "from tensorflow.keras.preprocessing.image import ImageDataGenerator\n",
    "from tensorflow.keras.utils import Sequence\n",
    "\n",
    "import matplotlib.pyplot as plt\n",
    "import numpy as np\n",
    "import cv2\n",
    "\n",
    "import os, json, shutil\n",
    "from tensorflow.keras.preprocessing.image import load_img, img_to_array, smart_resize\n",
    "from tensorflow.keras import layers\n",
    "from tensorflow import keras\n",
    "\n",
    "import os\n",
    "import json\n",
    "import sys\n",
    "\n",
    "import datetime\n",
    "import os\n",
    "import time\n",
    "import glob \n",
    "\n",
    "from itertools import islice\n",
    "\n",
    "from sklearn import ensemble\n",
    "from sklearn.metrics import accuracy_score\n",
    "\n",
    "out_train_data_dir = '/home/juanp.montoya/NeuralNetworks/Final_Project/final-project-landandbuildingsatimg-ccny/data/processed/Cropped_120/train'\n",
    "out_val_data_dir = '/home/juanp.montoya/NeuralNetworks/Final_Project/final-project-landandbuildingsatimg-ccny/data/processed/Cropped_120/val'"
   ]
  },
  {
   "cell_type": "code",
   "execution_count": 15,
   "metadata": {},
   "outputs": [],
   "source": [
    "class DataGenerator(Sequence):\n",
    "    def __init__(self, list_IDs,label_map , img_dir ,mode):\n",
    "        'Initialization'\n",
    "        self.list_IDs = list_IDs\n",
    "        self.label_map = image_label_map\n",
    "        self.on_epoch_end()\n",
    "        self.img_dir = img_dir + \"/images\"\n",
    "        self.mask_dir = img_dir + \"/masks\"\n",
    "        self.mode = mode\n",
    "\n",
    "    def __len__(self):\n",
    "        return int(len(self.list_IDs))\n",
    "\n",
    "    def on_epoch_end(self):\n",
    "        'Updates indexes after each epoch'\n",
    "        self.indexes = np.arange(len(self.list_IDs))    \n",
    "\n",
    "    \n",
    "    def __getitem__(self, index):\n",
    "        'Generate one batch of data'\n",
    "        indexes = self.indexes[index:(index+1)]\n",
    "        # Find list of IDs\n",
    "        list_IDs_temp = [self.list_IDs[k] for k in indexes]\n",
    "        # Generate data\n",
    "        X, y = self.__data_generation(list_IDs_temp)\n",
    "        return X, y\n",
    "    \n",
    "    \n",
    "    def __data_generation(self, list_IDs_temp):\n",
    "        \"\"\"Generates data containing batch_size samples\"\"\"\n",
    "        if self.mode == \"train\":\n",
    "            # Generate data\n",
    "            X, y = self.load_file(list_IDs_temp)\n",
    "            return X, y\n",
    "        elif self.mode == \"val\":\n",
    "            X, y = self.load_file(list_IDs_temp)\n",
    "            return X, y\n",
    "        \n",
    "        \n",
    "    def load_file(self, id_list):\n",
    "        list_IDs_temp = id_list\n",
    "        for ID in list_IDs_temp:\n",
    "            x_file_path = os.path.join(self.img_dir, ID)\n",
    "            y_file_path = os.path.join(self.mask_dir, self.label_map.get(ID))\n",
    "            # Store sample\n",
    "            X = np.load(x_file_path)\n",
    "            # Store class\n",
    "            y = np.load(y_file_path)\n",
    "#             ms_he = np.zeros(([120, y.shape[1], y.shape[2], 7]))\n",
    "#             for j in range(y.shape[0]):    \n",
    "#                 for i in range(7):\n",
    "#                     ms_he[j,:,:,i][y[j,:,:,0] == i] = 1\n",
    "        return X, y    \n",
    "\n",
    "# ====================\n",
    "# train set\n",
    "# ====================\n",
    "all_files = [s for s in os.listdir(out_train_data_dir + \"/images/\") if s.endswith('.npy')]\n",
    "all_files.append([s for s in os.listdir(out_train_data_dir + \"/masks/\") if s.endswith('.npy')] )\n",
    "\n",
    "image_label_map = {\n",
    "        \"image_file_{}.npy\".format(i+1): \"label_file_{}.npy\".format(i+1)\n",
    "        for i in range(int(len(all_files)))}\n",
    "partition = [item for item in all_files if \"image_file\" in item]\n",
    "\n",
    "# ====================\n",
    "# validation set\n",
    "# ====================\n",
    "\n",
    "all_val_files = [s for s in os.listdir(out_val_data_dir + \"/images/\") if s.endswith('.npy')]\n",
    "all_val_files.append([s for s in os.listdir(out_val_data_dir + \"/masks/\") if s.endswith('.npy')] )\n",
    "val_image_label_map = {\n",
    "        \"image_file_{}.npy\".format(i+1): \"label_file_{}.npy\".format(i+1)\n",
    "        for i in range(int(len(all_val_files)))}\n",
    "val_partition = [item for item in all_val_files if \"image_file\" in item]"
   ]
  },
  {
   "cell_type": "code",
   "execution_count": 16,
   "metadata": {},
   "outputs": [],
   "source": [
    "train_generator = DataGenerator(partition,image_label_map,out_train_data_dir, \"train\")\n",
    "val_generator= DataGenerator(val_partition,val_image_label_map,out_val_data_dir, \"val\")"
   ]
  },
  {
   "cell_type": "code",
   "execution_count": 17,
   "metadata": {},
   "outputs": [],
   "source": [
    "b1 = train_generator[0][0]\n",
    "m1 = train_generator[0][1]"
   ]
  },
  {
   "cell_type": "code",
   "execution_count": 18,
   "metadata": {},
   "outputs": [
    {
     "data": {
      "text/plain": [
       "(120, 512, 512, 1)"
      ]
     },
     "execution_count": 18,
     "metadata": {},
     "output_type": "execute_result"
    }
   ],
   "source": [
    "m1.shape"
   ]
  },
  {
   "cell_type": "code",
   "execution_count": 12,
   "metadata": {},
   "outputs": [],
   "source": [
    "# train = train_generator[0][0]\n",
    "X_train = b1.reshape(120, 512*512*3)\n",
    "y_train = m1.reshape()\n"
   ]
  }
 ],
 "metadata": {
  "kernelspec": {
   "display_name": "Python 3",
   "language": "python",
   "name": "python3"
  },
  "language_info": {
   "codemirror_mode": {
    "name": "ipython",
    "version": 3
   },
   "file_extension": ".py",
   "mimetype": "text/x-python",
   "name": "python",
   "nbconvert_exporter": "python",
   "pygments_lexer": "ipython3",
   "version": "3.8.2"
  }
 },
 "nbformat": 4,
 "nbformat_minor": 4
}
