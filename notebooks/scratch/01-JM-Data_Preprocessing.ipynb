{
 "cells": [
  {
   "cell_type": "code",
   "execution_count": 7,
   "metadata": {},
   "outputs": [],
   "source": [
    "from mpl_toolkits.mplot3d import Axes3D\n",
    "from sklearn.preprocessing import StandardScaler\n",
    "import matplotlib.pyplot as plt # plotting\n",
    "import numpy as np # linear algebra\n",
    "import os # accessing directory structure\n",
    "import pandas as pd # data processing, CSV file I/O (e.g. pd.read_csv\n",
    "\n",
    "from skimage import io\n",
    "import tensorflow as tf\n",
    "import PIL\n",
    "os.chdir('/home/juanp.montoya/NeuralNetworks/Final_Project/input')"
   ]
  },
  {
   "cell_type": "code",
   "execution_count": 10,
   "metadata": {},
   "outputs": [
    {
     "name": "stdout",
     "output_type": "stream",
     "text": [
      "There are 7 rows and 4 columns\n"
     ]
    }
   ],
   "source": [
    "nRowsRead = 1000 \n",
    "df1 = pd.read_csv('class_dict.csv', delimiter=',', nrows = nRowsRead)\n",
    "df1.dataframeName = 'class_dict.csv'\n",
    "nRow, nCol = df1.shape\n",
    "print(f'There are {nRow} rows and {nCol} columns')"
   ]
  },
  {
   "cell_type": "code",
   "execution_count": 11,
   "metadata": {},
   "outputs": [
    {
     "name": "stdout",
     "output_type": "stream",
     "text": [
      "There are 1000 rows and 4 columns\n"
     ]
    }
   ],
   "source": [
    "nRowsRead = 1000 \n",
    "df2 = pd.read_csv('metadata.csv', delimiter=',', nrows = nRowsRead)\n",
    "df2.dataframeName = 'metadata.csv'\n",
    "nRow, nCol = df2.shape\n",
    "print(f'There are {nRow} rows and {nCol} columns')"
   ]
  },
  {
   "cell_type": "code",
   "execution_count": 17,
   "metadata": {},
   "outputs": [
    {
     "data": {
      "text/html": [
       "<div>\n",
       "<style scoped>\n",
       "    .dataframe tbody tr th:only-of-type {\n",
       "        vertical-align: middle;\n",
       "    }\n",
       "\n",
       "    .dataframe tbody tr th {\n",
       "        vertical-align: top;\n",
       "    }\n",
       "\n",
       "    .dataframe thead th {\n",
       "        text-align: right;\n",
       "    }\n",
       "</style>\n",
       "<table border=\"1\" class=\"dataframe\">\n",
       "  <thead>\n",
       "    <tr style=\"text-align: right;\">\n",
       "      <th></th>\n",
       "      <th>image_id</th>\n",
       "      <th>split</th>\n",
       "      <th>sat_image_path</th>\n",
       "      <th>mask_path</th>\n",
       "    </tr>\n",
       "  </thead>\n",
       "  <tbody>\n",
       "    <tr>\n",
       "      <th>0</th>\n",
       "      <td>100694</td>\n",
       "      <td>train</td>\n",
       "      <td>train/100694_sat.jpg</td>\n",
       "      <td>train/100694_mask.png</td>\n",
       "    </tr>\n",
       "  </tbody>\n",
       "</table>\n",
       "</div>"
      ],
      "text/plain": [
       "   image_id  split        sat_image_path              mask_path\n",
       "0    100694  train  train/100694_sat.jpg  train/100694_mask.png"
      ]
     },
     "execution_count": 17,
     "metadata": {},
     "output_type": "execute_result"
    }
   ],
   "source": [
    "# PIL.Image.open('input/train/100694_sat.jpg')\n",
    "df2.head(1)"
   ]
  },
  {
   "cell_type": "code",
   "execution_count": 34,
   "metadata": {},
   "outputs": [],
   "source": [
    "def load_image(infilename, num_files) :\n",
    "    data = np.zeros(([infilename[:num_files].shape[0], 2448, 2448, 3]))\n",
    "    for i,j in enumerate(infilename[:num_files]):\n",
    "        img = PIL.Image.open( j )\n",
    "        img.load()\n",
    "        data[i] = np.asarray( img, dtype=\"int32\" )\n",
    "    return data"
   ]
  },
  {
   "cell_type": "code",
   "execution_count": null,
   "metadata": {},
   "outputs": [],
   "source": [
    "train = load_image(df2.loc[df2['split'] == 'train', 'sat_image_path'], 50)"
   ]
  },
  {
   "cell_type": "code",
   "execution_count": 36,
   "metadata": {},
   "outputs": [
    {
     "data": {
      "text/plain": [
       "(2, 2448, 2448, 3)"
      ]
     },
     "execution_count": 36,
     "metadata": {},
     "output_type": "execute_result"
    }
   ],
   "source": [
    "train.shape"
   ]
  },
  {
   "cell_type": "code",
   "execution_count": 31,
   "metadata": {},
   "outputs": [
    {
     "data": {
      "text/plain": [
       "0     train/100694_sat.jpg\n",
       "1     train/102122_sat.jpg\n",
       "2      train/10233_sat.jpg\n",
       "3     train/103665_sat.jpg\n",
       "4     train/103730_sat.jpg\n",
       "              ...         \n",
       "95    train/204494_sat.jpg\n",
       "96    train/204562_sat.jpg\n",
       "97    train/207663_sat.jpg\n",
       "98    train/207743_sat.jpg\n",
       "99    train/208495_sat.jpg\n",
       "Name: sat_image_path, Length: 100, dtype: object"
      ]
     },
     "execution_count": 31,
     "metadata": {},
     "output_type": "execute_result"
    }
   ],
   "source": [
    "df2.loc[df2['split'] == 'train', 'sat_image_path'][:100]"
   ]
  },
  {
   "cell_type": "code",
   "execution_count": null,
   "metadata": {},
   "outputs": [],
   "source": [
    "train_ds = tf.keras.preprocessing.image_dataset_from_directory(\n",
    "  'input/',\n",
    "  validation_split=0.2,\n",
    "  subset=\"training\",\n",
    "  seed=123,\n",
    "  image_size=(img_height, img_width),\n",
    "  batch_size=batch_size)"
   ]
  }
 ],
 "metadata": {
  "kernelspec": {
   "display_name": "Python 3",
   "language": "python",
   "name": "python3"
  },
  "language_info": {
   "codemirror_mode": {
    "name": "ipython",
    "version": 3
   },
   "file_extension": ".py",
   "mimetype": "text/x-python",
   "name": "python",
   "nbconvert_exporter": "python",
   "pygments_lexer": "ipython3",
   "version": "3.8.2"
  }
 },
 "nbformat": 4,
 "nbformat_minor": 4
}
