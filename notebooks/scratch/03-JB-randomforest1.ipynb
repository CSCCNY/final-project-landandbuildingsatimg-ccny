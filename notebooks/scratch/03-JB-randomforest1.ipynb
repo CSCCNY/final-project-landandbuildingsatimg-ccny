{
 "cells": [
  {
   "cell_type": "code",
   "execution_count": 1,
   "metadata": {},
   "outputs": [
    {
     "name": "stdout",
     "output_type": "stream",
     "text": [
      "INFO:tensorflow:Enabling eager execution\n",
      "INFO:tensorflow:Enabling v2 tensorshape\n",
      "INFO:tensorflow:Enabling resource variables\n",
      "INFO:tensorflow:Enabling tensor equality\n",
      "INFO:tensorflow:Enabling control flow v2\n"
     ]
    }
   ],
   "source": [
    "import numpy as np\n",
    "import csv as csv\n",
    "from sklearn.ensemble import RandomForestClassifier\n",
    "from sklearn.model_selection import GridSearchCV ,StratifiedKFold\n",
    "\n",
    "import numpy as np\n",
    "import pylab as plt\n",
    "from glob import glob\n",
    "import argparse\n",
    "import os\n",
    "import progressbar\n",
    "import pickle as pkl\n",
    "from numpy.lib import stride_tricks\n",
    "from skimage import feature\n",
    "from sklearn import metrics\n",
    "from sklearn.model_selection import train_test_split\n",
    "import time\n",
    "import mahotas as mt\n",
    "\n",
    "import tensorflow as tf\n",
    "from datetime import datetime\n",
    "from IPython import display\n",
    "from tensorflow.keras.utils import Sequence\n",
    "from keras import backend as K\n",
    "import random\n",
    "import cv2"
   ]
  },
  {
   "cell_type": "code",
   "execution_count": 2,
   "metadata": {},
   "outputs": [],
   "source": [
    "class DataGenerator(Sequence):\n",
    "    def __init__(self, list_IDs,label_map , img_dir ,mode):\n",
    "        'Initialization'\n",
    "        self.list_IDs = list_IDs\n",
    "        self.label_map = image_label_map\n",
    "        self.on_epoch_end()\n",
    "        self.img_dir = img_dir + \"/images\"\n",
    "        self.mask_dir = img_dir + \"/masks\"\n",
    "        self.mode = mode\n",
    "\n",
    "    def __len__(self):\n",
    "        return int(len(self.list_IDs))\n",
    "\n",
    "    def on_epoch_end(self):\n",
    "        'Updates indexes after each epoch'\n",
    "        self.indexes = np.arange(len(self.list_IDs))\n",
    "    \n",
    "    def __getitem__(self, index):\n",
    "        'Generate one batch of data'\n",
    "        indexes = self.indexes[index:(index+1)]\n",
    "        # Find list of IDs\n",
    "        list_IDs_temp = [self.list_IDs[k] for k in indexes]\n",
    "        # Generate data\n",
    "        X, y = self.__data_generation(list_IDs_temp)\n",
    "        return X, y    \n",
    "    \n",
    "    def __data_generation(self, list_IDs_temp):\n",
    "        \"\"\"Generates data containing batch_size samples\"\"\"\n",
    "        if self.mode == \"train\":\n",
    "            # Generate data\n",
    "            X, y = self.load_file(list_IDs_temp)\n",
    "            return X, y\n",
    "        elif self.mode == \"val\":\n",
    "            X, y = self.load_file(list_IDs_temp)\n",
    "            return X, y        \n",
    "        \n",
    "    def load_file(self, id_list):\n",
    "        list_IDs_temp = id_list\n",
    "        for ID in list_IDs_temp:\n",
    "            x_file_path = os.path.join(self.img_dir, ID)\n",
    "            y_file_path = os.path.join(self.mask_dir, self.label_map.get(ID))\n",
    "            # Store sample\n",
    "            X = np.load(x_file_path)\n",
    "            # Store class\n",
    "            y = np.load(y_file_path).astype('float32')\n",
    "        return X, y    "
   ]
  },
  {
   "cell_type": "markdown",
   "metadata": {},
   "source": [
    "train_generator = DataGenerator(partition,image_label_map,out_train_data_dir, \"train\")\n",
    "val_generator= DataGenerator(val_partition,val_image_label_map,out_val_data_dir, \"val\")"
   ]
  },
  {
   "cell_type": "markdown",
   "metadata": {},
   "source": [
    "print( len(train_masks) , len(train_imgs) )"
   ]
  },
  {
   "cell_type": "markdown",
   "metadata": {},
   "source": [
    "print(train_imgs[:3]"
   ]
  },
  {
   "cell_type": "markdown",
   "metadata": {},
   "source": [
    "#re ,inp = load(PATH+'train/100.jpg')\n",
    "#flips mask and input image\n",
    "re_inp = DataGenerator(partition\n",
    "                       ,image_label_map\n",
    "                       ,out_train_data_dir\n",
    "                       , \"train\")\n",
    "val_re_inp= DataGenerator(val_partition\n",
    "                          ,val_image_label_map\n",
    "                          ,out_val_data_dir\n",
    "                          , \"val\")"
   ]
  },
  {
   "cell_type": "code",
   "execution_count": 3,
   "metadata": {},
   "outputs": [],
   "source": [
    "def read_data(img_npy ,image_dir ,label_npy ,label_dir):\n",
    "    print ('[INFO] Reading image data.')\n",
    "    image_list = []\n",
    "    label_list = []\n",
    "    \n",
    "    '''for file in img_npy:        \n",
    "        for batch in range( bs1 ):        \n",
    "            for row in range( train_ds[batch][0][...].shape[0] ):\n",
    "                print('.' , row , end='')\n",
    "        \n",
    "                x = os.path.join( image_dir ,file )\n",
    "                x = np.load( x )\n",
    "                image_list.append( x )'''\n",
    "                          \n",
    "    for file in img_npy:\n",
    "        x1 = os.path.join( image_dir ,file )\n",
    "        #print(x1)\n",
    "        x2 = np.load( x1 )        \n",
    "        x2 = np.int64(x2*255)\n",
    "        bs1 = len(x2)\n",
    "        \n",
    "        for batch in range( bs1 ):        \n",
    "            #for row in range( x2[batch][...].shape[0] ): \n",
    "            x3 = x2[batch]            \n",
    "            image_list.append( x3 )                \n",
    "            if (batch == 1) & (file == \"image_file_24.npy\"):\n",
    "                print(\"trainshape: \" ,x3.shape)  \n",
    "                \n",
    "    for file in label_npy:\n",
    "        x1 = os.path.join( label_dir ,file )\n",
    "        #print(x1)\n",
    "        x2 = np.load( x1 )    \n",
    "        x2 = np.int64(x2*255)\n",
    "        bs1 = len(x2)\n",
    "        \n",
    "        for batch in range( bs1 ):        \n",
    "            #for row in range( x2[batch][...].shape[0] ):  \n",
    "            x3 = x2[batch]         \n",
    "            label_list.append( x3 )\n",
    "            if (batch == 1) & (file == \"label_file_24.npy\"):\n",
    "                print(\"trainshape: \" ,x3.shape)   \n",
    "                \n",
    "    \n",
    "    '''for file in img_npy:\n",
    "        x1 = os.path.join( image_dir ,file )\n",
    "        x2 = np.load( x1 )\n",
    "        image_list.append( x2 )\n",
    "        \n",
    "    for file in label_npy:\n",
    "        x1 = os.path.join( image_dir ,file )\n",
    "        x2 = np.load( x1 )\n",
    "        label_list.append( x2 )'''\n",
    "\n",
    "    return image_list, label_list"
   ]
  },
  {
   "cell_type": "markdown",
   "metadata": {
    "tags": []
   },
   "source": [
    "out_train_data_dir = '/home/hgamarro/DeepLearning/HG_space/data/processed/Vegas/train'\n",
    "out_val_data_dir = '/home/hgamarro/DeepLearning/HG_space/data/processed/Vegas/val'\n",
    "\n",
    "# ====================\n",
    "# train set\n",
    "# ====================\n",
    "train_imgs = [s for s in os.listdir(out_train_data_dir + \"/images/\") if s.endswith('.npy')]\n",
    "train_masks = [s for s in os.listdir(out_train_data_dir + \"/masks/\") if s.endswith('.npy')]\n",
    "\n",
    "# ====================\n",
    "# validation set\n",
    "# ====================\n",
    "val_imgs = [s for s in os.listdir(out_val_data_dir + \"/images/\") if s.endswith('.npy')]\n",
    "val_masks = [s for s in os.listdir(out_val_data_dir + \"/masks/\") if s.endswith('.npy')]\n",
    "\n",
    "image_list , label_list = read_data( train_imgs\n",
    "                                , out_train_data_dir + \"/images/\"\n",
    "                                , train_masks\n",
    "                                , out_train_data_dir + \"/masks/\"\n",
    "                               )"
   ]
  },
  {
   "cell_type": "code",
   "execution_count": 5,
   "metadata": {},
   "outputs": [],
   "source": [
    "x = image_list[0]"
   ]
  },
  {
   "cell_type": "code",
   "execution_count": 6,
   "metadata": {},
   "outputs": [
    {
     "data": {
      "text/plain": [
       "(512, 512, 3)"
      ]
     },
     "execution_count": 6,
     "metadata": {},
     "output_type": "execute_result"
    }
   ],
   "source": [
    "x.shape"
   ]
  },
  {
   "cell_type": "code",
   "execution_count": 7,
   "metadata": {},
   "outputs": [
    {
     "data": {
      "text/plain": [
       "numpy.ndarray"
      ]
     },
     "execution_count": 7,
     "metadata": {},
     "output_type": "execute_result"
    }
   ],
   "source": [
    "type(x)"
   ]
  },
  {
   "cell_type": "code",
   "execution_count": 8,
   "metadata": {},
   "outputs": [
    {
     "data": {
      "text/plain": [
       "<matplotlib.image.AxesImage at 0x2af6e4b88130>"
      ]
     },
     "execution_count": 8,
     "metadata": {},
     "output_type": "execute_result"
    },
    {
     "data": {
      "image/png": "[encoded data removed]",
      "text/plain": [
       "<Figure size 432x288 with 1 Axes>"
      ]
     },
     "metadata": {
      "needs_background": "light"
     },
     "output_type": "display_data"
    }
   ],
   "source": [
    "def rgb2gray(rgb):\n",
    "    return np.dot(rgb[...,:3], [0.2989, 0.5870, 0.1140])\n",
    "\n",
    "gray = rgb2gray(x)  \n",
    "plt.imshow(gray, cmap=plt.get_cmap('gray'))"
   ]
  },
  {
   "cell_type": "code",
   "execution_count": 70,
   "metadata": {},
   "outputs": [
    {
     "ename": "TypeError",
     "evalue": "Can't convert object of type 'numpy.ndarray' to 'str' for 'filename'",
     "output_type": "error",
     "traceback": [
      "\u001b[0;31m---------------------------------------------------------------------------\u001b[0m",
      "\u001b[0;31mTypeError\u001b[0m                                 Traceback (most recent call last)",
      "\u001b[0;32m<ipython-input-70-7e27e1599660>\u001b[0m in \u001b[0;36m<module>\u001b[0;34m\u001b[0m\n\u001b[0;32m----> 1\u001b[0;31m \u001b[0mcv2\u001b[0m\u001b[0;34m.\u001b[0m\u001b[0mimread\u001b[0m\u001b[0;34m(\u001b[0m\u001b[0mx\u001b[0m\u001b[0;34m)\u001b[0m\u001b[0;34m\u001b[0m\u001b[0;34m\u001b[0m\u001b[0m\n\u001b[0m",
      "\u001b[0;31mTypeError\u001b[0m: Can't convert object of type 'numpy.ndarray' to 'str' for 'filename'"
     ]
    }
   ],
   "source": [
    "cv2.imread(x)"
   ]
  },
  {
   "cell_type": "code",
   "execution_count": 72,
   "metadata": {},
   "outputs": [
    {
     "ename": "error",
     "evalue": "OpenCV(4.5.1) /tmp/pip-req-build-2mj8ejrk/opencv/modules/imgproc/src/color.simd_helpers.hpp:94: error: (-2:Unspecified error) in function 'cv::impl::{anonymous}::CvtHelper<VScn, VDcn, VDepth, sizePolicy>::CvtHelper(cv::InputArray, cv::OutputArray, int) [with VScn = cv::impl::{anonymous}::Set<3, 4>; VDcn = cv::impl::{anonymous}::Set<1>; VDepth = cv::impl::{anonymous}::Set<0, 2, 5>; cv::impl::{anonymous}::SizePolicy sizePolicy = cv::impl::<unnamed>::NONE; cv::InputArray = const cv::_InputArray&; cv::OutputArray = const cv::_OutputArray&]'\n> Unsupported depth of input image:\n>     'VDepth::contains(depth)'\n> where\n>     'depth' is 4 (CV_32S)\n",
     "output_type": "error",
     "traceback": [
      "\u001b[0;31m---------------------------------------------------------------------------\u001b[0m",
      "\u001b[0;31merror\u001b[0m                                     Traceback (most recent call last)",
      "\u001b[0;32m<ipython-input-72-499696869a80>\u001b[0m in \u001b[0;36m<module>\u001b[0;34m\u001b[0m\n\u001b[0;32m----> 1\u001b[0;31m \u001b[0mcv2\u001b[0m\u001b[0;34m.\u001b[0m\u001b[0mcvtColor\u001b[0m\u001b[0;34m(\u001b[0m\u001b[0mx\u001b[0m \u001b[0;34m,\u001b[0m \u001b[0mcv2\u001b[0m\u001b[0;34m.\u001b[0m\u001b[0mCOLOR_RGB2GRAY\u001b[0m \u001b[0;34m)\u001b[0m\u001b[0;34m\u001b[0m\u001b[0;34m\u001b[0m\u001b[0m\n\u001b[0m",
      "\u001b[0;31merror\u001b[0m: OpenCV(4.5.1) /tmp/pip-req-build-2mj8ejrk/opencv/modules/imgproc/src/color.simd_helpers.hpp:94: error: (-2:Unspecified error) in function 'cv::impl::{anonymous}::CvtHelper<VScn, VDcn, VDepth, sizePolicy>::CvtHelper(cv::InputArray, cv::OutputArray, int) [with VScn = cv::impl::{anonymous}::Set<3, 4>; VDcn = cv::impl::{anonymous}::Set<1>; VDepth = cv::impl::{anonymous}::Set<0, 2, 5>; cv::impl::{anonymous}::SizePolicy sizePolicy = cv::impl::<unnamed>::NONE; cv::InputArray = const cv::_InputArray&; cv::OutputArray = const cv::_OutputArray&]'\n> Unsupported depth of input image:\n>     'VDepth::contains(depth)'\n> where\n>     'depth' is 4 (CV_32S)\n"
     ]
    }
   ],
   "source": [
    "cv2.cvtColor(x , cv2.COLOR_RGB2GRAY )"
   ]
  },
  {
   "cell_type": "code",
   "execution_count": 68,
   "metadata": {},
   "outputs": [
    {
     "ename": "error",
     "evalue": "OpenCV(4.5.1) /tmp/pip-req-build-2mj8ejrk/opencv/modules/imgproc/src/color.simd_helpers.hpp:94: error: (-2:Unspecified error) in function 'cv::impl::{anonymous}::CvtHelper<VScn, VDcn, VDepth, sizePolicy>::CvtHelper(cv::InputArray, cv::OutputArray, int) [with VScn = cv::impl::{anonymous}::Set<3, 4>; VDcn = cv::impl::{anonymous}::Set<3, 4>; VDepth = cv::impl::{anonymous}::Set<0, 2, 5>; cv::impl::{anonymous}::SizePolicy sizePolicy = cv::impl::<unnamed>::NONE; cv::InputArray = const cv::_InputArray&; cv::OutputArray = const cv::_OutputArray&]'\n> Unsupported depth of input image:\n>     'VDepth::contains(depth)'\n> where\n>     'depth' is 4 (CV_32S)\n",
     "output_type": "error",
     "traceback": [
      "\u001b[0;31m---------------------------------------------------------------------------\u001b[0m",
      "\u001b[0;31merror\u001b[0m                                     Traceback (most recent call last)",
      "\u001b[0;32m<ipython-input-68-ec7e81d8127c>\u001b[0m in \u001b[0;36m<module>\u001b[0;34m\u001b[0m\n\u001b[0;32m----> 1\u001b[0;31m \u001b[0mcv2\u001b[0m\u001b[0;34m.\u001b[0m\u001b[0mcvtColor\u001b[0m\u001b[0;34m(\u001b[0m\u001b[0mx\u001b[0m\u001b[0;34m,\u001b[0m  \u001b[0mcv2\u001b[0m\u001b[0;34m.\u001b[0m\u001b[0mCOLOR_BGR2RGB\u001b[0m\u001b[0;34m)\u001b[0m\u001b[0;34m\u001b[0m\u001b[0;34m\u001b[0m\u001b[0m\n\u001b[0m",
      "\u001b[0;31merror\u001b[0m: OpenCV(4.5.1) /tmp/pip-req-build-2mj8ejrk/opencv/modules/imgproc/src/color.simd_helpers.hpp:94: error: (-2:Unspecified error) in function 'cv::impl::{anonymous}::CvtHelper<VScn, VDcn, VDepth, sizePolicy>::CvtHelper(cv::InputArray, cv::OutputArray, int) [with VScn = cv::impl::{anonymous}::Set<3, 4>; VDcn = cv::impl::{anonymous}::Set<3, 4>; VDepth = cv::impl::{anonymous}::Set<0, 2, 5>; cv::impl::{anonymous}::SizePolicy sizePolicy = cv::impl::<unnamed>::NONE; cv::InputArray = const cv::_InputArray&; cv::OutputArray = const cv::_OutputArray&]'\n> Unsupported depth of input image:\n>     'VDepth::contains(depth)'\n> where\n>     'depth' is 4 (CV_32S)\n"
     ]
    }
   ],
   "source": [
    "cv2.cvtColor(x,  cv2.COLOR_BGR2RGB)"
   ]
  },
  {
   "cell_type": "code",
   "execution_count": null,
   "metadata": {},
   "outputs": [],
   "source": [
    "image_list[0][0]*255"
   ]
  },
  {
   "cell_type": "code",
   "execution_count": null,
   "metadata": {},
   "outputs": [],
   "source": []
  },
  {
   "cell_type": "markdown",
   "metadata": {},
   "source": [
    "os.path.join(out_train_data_dir + \"/images/\" ,\"image_file_87.npy\" )"
   ]
  },
  {
   "cell_type": "markdown",
   "metadata": {},
   "source": [
    "os.path.isfile( os.path.join(out_train_data_dir + \"/images/\" ,\"image_file_87.npy\" ))"
   ]
  },
  {
   "cell_type": "markdown",
   "metadata": {
    "tags": []
   },
   "source": [
    "np.load(os.path.join( out_train_data_dir + \"/images/\" ,train_imgs[0] ) )"
   ]
  },
  {
   "cell_type": "markdown",
   "metadata": {},
   "source": [
    "len(train_imgs)"
   ]
  },
  {
   "cell_type": "markdown",
   "metadata": {},
   "source": [
    "image_list[0].shape"
   ]
  },
  {
   "cell_type": "code",
   "execution_count": 4,
   "metadata": {},
   "outputs": [],
   "source": [
    "def subsample(features, labels, low, high, sample_size):\n",
    "\n",
    "    idx = np.random.randint(low, high, sample_size)\n",
    "\n",
    "    return features[idx], labels[idx]\n",
    "\n",
    "def subsample_idx(low, high, sample_size):\n",
    "\n",
    "    return np.random.randint(low,high,sample_size)"
   ]
  },
  {
   "cell_type": "code",
   "execution_count": 5,
   "metadata": {},
   "outputs": [],
   "source": [
    "def calc_haralick(roi):\n",
    "\n",
    "    feature_vec = []\n",
    "\n",
    "    texture_features = mt.features.haralick(roi)\n",
    "    mean_ht = texture_features.mean(axis=0)\n",
    "\n",
    "    [feature_vec.append(i) for i in mean_ht[0:9]]\n",
    "\n",
    "    return np.array(feature_vec)"
   ]
  },
  {
   "cell_type": "code",
   "execution_count": 6,
   "metadata": {},
   "outputs": [],
   "source": [
    "def harlick_features(img, h_neigh, ss_idx):\n",
    "\n",
    "    print ('[INFO] Computing haralick features.')\n",
    "    size = h_neigh\n",
    "    shape = (img.shape[0] - size + 1, img.shape[1] - size + 1, size, size)\n",
    "    strides = 2 * img.strides\n",
    "    patches = stride_tricks.as_strided(img, shape=shape, strides=strides)\n",
    "    patches = patches.reshape(-1, size, size)\n",
    "\n",
    "    if len(ss_idx) == 0 :\n",
    "        bar = progressbar.ProgressBar(maxval=len(patches), \\\n",
    "        widgets=[progressbar.Bar('=', '[', ']'), ' ', progressbar.Percentage()])\n",
    "    else:\n",
    "        bar = progressbar.ProgressBar(maxval=len(ss_idx), \\\n",
    "        widgets=[progressbar.Bar('=', '[', ']'), ' ', progressbar.Percentage()])\n",
    "\n",
    "    bar.start()\n",
    "\n",
    "    h_features = []\n",
    "\n",
    "    if len(ss_idx) == 0:\n",
    "        for i, p in enumerate(patches):\n",
    "            bar.update(i+1)\n",
    "            h_features.append(calc_haralick(p))\n",
    "    else:\n",
    "        for i, p in enumerate(patches[ss_idx]):\n",
    "            bar.update(i+1)\n",
    "            h_features.append(calc_haralick(p))\n",
    "\n",
    "    #h_features = [calc_haralick(p) for p in patches[ss_idx]]\n",
    "\n",
    "    return np.array(h_features)"
   ]
  },
  {
   "cell_type": "code",
   "execution_count": 7,
   "metadata": {},
   "outputs": [],
   "source": [
    "def create_binary_pattern(img, p, r):\n",
    "\n",
    "    print ('[INFO] Computing local binary pattern features.')\n",
    "    lbp = feature.local_binary_pattern(img, p, r)\n",
    "    return (lbp-np.min(lbp))/(np.max(lbp)-np.min(lbp)) * 255"
   ]
  },
  {
   "cell_type": "code",
   "execution_count": 8,
   "metadata": {},
   "outputs": [],
   "source": [
    "def create_features(img, img_gray, label, train=True):\n",
    "\n",
    "    lbp_radius = 24 # local binary pattern neighbourhood\n",
    "    h_neigh = 11 # haralick neighbourhood\n",
    "    num_examples = 1000 # number of examples per image to use for training model\n",
    "\n",
    "    lbp_points = lbp_radius*8\n",
    "    h_ind = int((h_neigh - 1)/ 2)\n",
    "\n",
    "    feature_img = np.zeros((img.shape[0],img.shape[1],4))\n",
    "    feature_img[:,:,:3] = img\n",
    "    img = None\n",
    "    feature_img[:,:,3] = create_binary_pattern(img_gray, lbp_points, lbp_radius)\n",
    "    feature_img = feature_img[h_ind:-h_ind, h_ind:-h_ind]\n",
    "    features = feature_img.reshape(feature_img.shape[0]*feature_img.shape[1], feature_img.shape[2])\n",
    "\n",
    "    if train == True:\n",
    "        ss_idx = subsample_idx(0, features.shape[0], num_examples)\n",
    "        features = features[ss_idx]\n",
    "    else:\n",
    "        ss_idx = []\n",
    "\n",
    "    h_features = harlick_features(img_gray, h_neigh, ss_idx)\n",
    "    features = np.hstack((features, h_features))\n",
    "\n",
    "    if train == True:\n",
    "\n",
    "        label = label[h_ind:-h_ind, h_ind:-h_ind]\n",
    "        labels = label.reshape(label.shape[0]*label.shape[1], 1)\n",
    "        labels = labels[ss_idx]\n",
    "    else:\n",
    "        labels = None\n",
    "\n",
    "    return features, labels"
   ]
  },
  {
   "cell_type": "code",
   "execution_count": 9,
   "metadata": {},
   "outputs": [],
   "source": [
    "def rgb2gray(rgb):\n",
    "    return np.dot(rgb[...,:3], [0.2989, 0.5870, 0.1140])"
   ]
  },
  {
   "cell_type": "code",
   "execution_count": 10,
   "metadata": {},
   "outputs": [],
   "source": [
    "def create_training_dataset(image_list, label_list):\n",
    "\n",
    "    print ('[INFO] Creating training dataset on %d image(s).' %len(image_list))\n",
    "\n",
    "    X = []\n",
    "    y = []\n",
    "\n",
    "    x = len(image_list)\n",
    "    for i in range(x):\n",
    "        #print(img.shape)\n",
    "        #img_gray = cv2.cvtColor(img, cv2.COLOR_BGR2GRAY)\n",
    "        img_gray = np.int64( rgb2gray(image_list[i])  )\n",
    "        features, labels = create_features(img, img_gray, label_list[i])\n",
    "        X.append(features)\n",
    "        y.append(labels)\n",
    "\n",
    "    X = np.array(X)\n",
    "    X = X.reshape(X.shape[0]*X.shape[1], X.shape[2])\n",
    "    y = np.array(y)\n",
    "    y = y.reshape(y.shape[0]*y.shape[1], y.shape[2]).ravel()\n",
    "\n",
    "    X_train, X_test, y_train, y_test = train_test_split(X, y, test_size=0.2, random_state=42)\n",
    "\n",
    "    print ('[INFO] Feature vector size:', X_train.shape)\n",
    "\n",
    "    return X_train, X_test, y_train, y_test"
   ]
  },
  {
   "cell_type": "code",
   "execution_count": 11,
   "metadata": {},
   "outputs": [],
   "source": [
    "def train_model(X, y, classifier):\n",
    "\n",
    "    if classifier == \"SVM\":\n",
    "        from sklearn.svm import SVC\n",
    "        print ('[INFO] Training Support Vector Machine model.')\n",
    "        model = SVC()\n",
    "        model.fit(X, y)\n",
    "    elif classifier == \"RF\":\n",
    "        from sklearn.ensemble import RandomForestClassifier\n",
    "        print ('[INFO] Training Random Forest model.')\n",
    "        model = RandomForestClassifier(n_estimators=250, max_depth=12, random_state=42)\n",
    "        model.fit(X, y)\n",
    "    elif classifier == \"GBC\":\n",
    "        from sklearn.ensemble import GradientBoostingClassifier\n",
    "        model = GradientBoostingClassifier(n_estimators=100, learning_rate=1.0, max_depth=1, random_state=0)\n",
    "        model.fit(X, y)\n",
    "\n",
    "    print ('[INFO] Model training complete.')\n",
    "    print ('[INFO] Training Accuracy: %.2f' %model.score(X, y))\n",
    "    return model"
   ]
  },
  {
   "cell_type": "code",
   "execution_count": 12,
   "metadata": {},
   "outputs": [],
   "source": [
    "def test_model(X, y, model):\n",
    "\n",
    "    pred = model.predict(X)\n",
    "    precision = metrics.precision_score(y, pred, average='weighted', labels=np.unique(pred))\n",
    "    recall = metrics.recall_score(y, pred, average='weighted', labels=np.unique(pred))\n",
    "    f1 = metrics.f1_score(y, pred, average='weighted', labels=np.unique(pred))\n",
    "    accuracy = metrics.accuracy_score(y, pred)\n",
    "\n",
    "    print ('--------------------------------')\n",
    "    print ('[RESULTS] Accuracy: %.2f' %accuracy)\n",
    "    print ('[RESULTS] Precision: %.2f' %precision)\n",
    "    print ('[RESULTS] Recall: %.2f' %recall)\n",
    "    print ('[RESULTS] F1: %.2f' %f1)\n",
    "    print ('--------------------------------')"
   ]
  },
  {
   "cell_type": "code",
   "execution_count": 13,
   "metadata": {},
   "outputs": [],
   "source": [
    "def main(image_dir, label_dir, classifier, output_model):\n",
    "\n",
    "    start = time.time()\n",
    "    \n",
    "    out_train_data_dir = '/home/hgamarro/DeepLearning/HG_space/data/processed/Vegas/train'\n",
    "    out_val_data_dir = '/home/hgamarro/DeepLearning/HG_space/data/processed/Vegas/val'\n",
    "\n",
    "    # ====================\n",
    "    # train set\n",
    "    # ====================\n",
    "    train_imgs = [s for s in os.listdir(out_train_data_dir + \"/images/\") if s.endswith('.npy')]\n",
    "    train_masks = [s for s in os.listdir(out_train_data_dir + \"/masks/\") if s.endswith('.npy')]\n",
    "\n",
    "    # ====================\n",
    "    # validation set\n",
    "    # ====================\n",
    "    val_imgs = [s for s in os.listdir(out_val_data_dir + \"/images/\") if s.endswith('.npy')]\n",
    "    val_masks = [s for s in os.listdir(out_val_data_dir + \"/masks/\") if s.endswith('.npy')]\n",
    "\n",
    "    image_list , label_list = read_data( train_imgs\n",
    "                                    , out_train_data_dir + \"/images/\"\n",
    "                                    , train_masks\n",
    "                                    , out_train_data_dir + \"/masks/\"\n",
    "                                   )\n",
    "    \n",
    "    val_image_list , val_label_list = read_data( val_imgs\n",
    "                                            , out_val_data_dir + \"/images/\"\n",
    "                                            , val_masks\n",
    "                                            , out_val_data_dir + \"/masks/\"\n",
    "                                           )\n",
    "    #images = []\n",
    "    #labels = []\n",
    "    for i in range(0, len(val_image_list)): \n",
    "        image_list.append(val_image_list)\n",
    "        label_list.append(val_label_list)\n",
    "    \n",
    "    X_train, X_test, y_train, y_test = create_training_dataset(image_list, label_list)\n",
    "    \n",
    "    #y_train, y_test = create_training_dataset(image_list, label_list)\n",
    "    \n",
    "    test_model(X_test, y_test, model)\n",
    "    pkl.dump(model, open(output_model, \"wb\"))\n",
    "    print ('Processing time:',time.time()-start)"
   ]
  },
  {
   "cell_type": "code",
   "execution_count": 14,
   "metadata": {},
   "outputs": [
    {
     "name": "stdout",
     "output_type": "stream",
     "text": [
      "[INFO] Reading image data.\n",
      "trainshape:  (512, 512, 3)\n",
      "trainshape:  (512, 512, 1)\n",
      "[INFO] Reading image data.\n"
     ]
    },
    {
     "ename": "NameError",
     "evalue": "name 'list_to_iterate' is not defined",
     "output_type": "error",
     "traceback": [
      "\u001b[0;31m---------------------------------------------------------------------------\u001b[0m",
      "\u001b[0;31mNameError\u001b[0m                                 Traceback (most recent call last)",
      "\u001b[0;32m<ipython-input-14-c9a73a370ffe>\u001b[0m in \u001b[0;36m<module>\u001b[0;34m\u001b[0m\n\u001b[1;32m     26\u001b[0m                                        )\n\u001b[1;32m     27\u001b[0m \u001b[0;34m\u001b[0m\u001b[0m\n\u001b[0;32m---> 28\u001b[0;31m \u001b[0;32mfor\u001b[0m \u001b[0mi\u001b[0m \u001b[0;32min\u001b[0m \u001b[0mrange\u001b[0m\u001b[0;34m(\u001b[0m\u001b[0;36m0\u001b[0m\u001b[0;34m,\u001b[0m \u001b[0mlen\u001b[0m\u001b[0;34m(\u001b[0m\u001b[0mlist_to_iterate\u001b[0m\u001b[0;34m)\u001b[0m\u001b[0;34m)\u001b[0m\u001b[0;34m:\u001b[0m\u001b[0;34m\u001b[0m\u001b[0;34m\u001b[0m\u001b[0m\n\u001b[0m\u001b[1;32m     29\u001b[0m     \u001b[0mimages\u001b[0m \u001b[0;34m=\u001b[0m \u001b[0mimage_list\u001b[0m\u001b[0;34m.\u001b[0m\u001b[0mappend\u001b[0m\u001b[0;34m(\u001b[0m\u001b[0mval_image_list\u001b[0m\u001b[0;34m)\u001b[0m\u001b[0;34m\u001b[0m\u001b[0;34m\u001b[0m\u001b[0m\n\u001b[1;32m     30\u001b[0m     \u001b[0mlabels\u001b[0m \u001b[0;34m=\u001b[0m \u001b[0mlabel_list\u001b[0m\u001b[0;34m.\u001b[0m\u001b[0mappend\u001b[0m\u001b[0;34m(\u001b[0m\u001b[0mval_label_list\u001b[0m\u001b[0;34m)\u001b[0m\u001b[0;34m\u001b[0m\u001b[0;34m\u001b[0m\u001b[0m\n",
      "\u001b[0;31mNameError\u001b[0m: name 'list_to_iterate' is not defined"
     ]
    }
   ],
   "source": [
    "out_train_data_dir = '/home/hgamarro/DeepLearning/HG_space/data/processed/Vegas/train'\n",
    "out_val_data_dir = '/home/hgamarro/DeepLearning/HG_space/data/processed/Vegas/val'\n",
    "\n",
    "# ====================\n",
    "# train set\n",
    "# ====================\n",
    "train_imgs = [s for s in os.listdir(out_train_data_dir + \"/images/\") if s.endswith('.npy')]\n",
    "train_masks = [s for s in os.listdir(out_train_data_dir + \"/masks/\") if s.endswith('.npy')]\n",
    "\n",
    "# ====================\n",
    "# validation set\n",
    "# ====================\n",
    "val_imgs = [s for s in os.listdir(out_val_data_dir + \"/images/\") if s.endswith('.npy')]\n",
    "val_masks = [s for s in os.listdir(out_val_data_dir + \"/masks/\") if s.endswith('.npy')]\n",
    "\n",
    "image_list , label_list = read_data( train_imgs\n",
    "                                , out_train_data_dir + \"/images/\"\n",
    "                                , train_masks\n",
    "                                , out_train_data_dir + \"/masks/\"\n",
    "                               )\n",
    "\n",
    "val_image_list , val_label_list = read_data( val_imgs\n",
    "                                        , out_val_data_dir + \"/images/\"\n",
    "                                        , val_masks\n",
    "                                        , out_val_data_dir + \"/masks/\"\n",
    "                                       )\n",
    "\n",
    "for i in range(0, len(val_image_list)): \n",
    "    images = image_list.append(val_image_list)\n",
    "    labels = label_list.append(val_label_list)"
   ]
  },
  {
   "cell_type": "code",
   "execution_count": 15,
   "metadata": {},
   "outputs": [
    {
     "data": {
      "text/plain": [
       "2891"
      ]
     },
     "execution_count": 15,
     "metadata": {},
     "output_type": "execute_result"
    }
   ],
   "source": [
    "len(image_list)"
   ]
  },
  {
   "cell_type": "code",
   "execution_count": 16,
   "metadata": {},
   "outputs": [
    {
     "data": {
      "text/plain": [
       "(512, 512, 3)"
      ]
     },
     "execution_count": 16,
     "metadata": {},
     "output_type": "execute_result"
    }
   ],
   "source": [
    "image_list[0].shape"
   ]
  },
  {
   "cell_type": "code",
   "execution_count": 27,
   "metadata": {},
   "outputs": [],
   "source": [
    "x = len(image_list)\n",
    "for i in range(x):\n",
    "    #print(img.shape)\n",
    "    #img_gray = cv2.cvtColor(img, cv2.COLOR_BGR2GRAY)\n",
    "    img_gray = np.int64( rgb2gray(image_list[i])  )\n",
    "    #features, labels = create_features(img, img_gray, label_list[i])"
   ]
  },
  {
   "cell_type": "code",
   "execution_count": 28,
   "metadata": {},
   "outputs": [
    {
     "data": {
      "text/plain": [
       "512"
      ]
     },
     "execution_count": 28,
     "metadata": {},
     "output_type": "execute_result"
    }
   ],
   "source": [
    "len(img_gray)"
   ]
  },
  {
   "cell_type": "code",
   "execution_count": 43,
   "metadata": {},
   "outputs": [
    {
     "name": "stdout",
     "output_type": "stream",
     "text": [
      "(512, 512)\n",
      "(512, 512)\n",
      "(512, 512)\n"
     ]
    }
   ],
   "source": [
    "\n",
    "for i in range(3):\n",
    "    img_gray = np.int64( rgb2gray( image_list[0] ) )#.shape\n",
    "    print(img_gray.shape)"
   ]
  },
  {
   "cell_type": "code",
   "execution_count": null,
   "metadata": {},
   "outputs": [],
   "source": [
    "image_list.shape"
   ]
  },
  {
   "cell_type": "code",
   "execution_count": null,
   "metadata": {},
   "outputs": [],
   "source": [
    "if __name__ == \"__main__\":\n",
    "    #args = parse_args()\n",
    "    image_dir =  None #args.image_dir\n",
    "    label_dir = None #args.label_dir\n",
    "    classifier = \"RF\" #args.classifier\n",
    "    output_model = \"/home/hgamarro/DeepLearning/JB_space/models/randomforest/randomforest1.pkl\"\n",
    "    main(image_dir, label_dir, classifier, output_model)"
   ]
  },
  {
   "cell_type": "code",
   "execution_count": null,
   "metadata": {},
   "outputs": [],
   "source": []
  },
  {
   "cell_type": "code",
   "execution_count": null,
   "metadata": {},
   "outputs": [],
   "source": []
  },
  {
   "cell_type": "code",
   "execution_count": null,
   "metadata": {},
   "outputs": [],
   "source": []
  },
  {
   "cell_type": "code",
   "execution_count": null,
   "metadata": {},
   "outputs": [],
   "source": []
  },
  {
   "cell_type": "code",
   "execution_count": null,
   "metadata": {},
   "outputs": [],
   "source": []
  },
  {
   "cell_type": "code",
   "execution_count": null,
   "metadata": {},
   "outputs": [],
   "source": []
  },
  {
   "cell_type": "code",
   "execution_count": null,
   "metadata": {},
   "outputs": [],
   "source": []
  },
  {
   "cell_type": "code",
   "execution_count": null,
   "metadata": {},
   "outputs": [],
   "source": [
    "from sklearn.ensemble import RandomForestClassifier\n",
    "forest_clf = RandomForestClassifier(n_estimators=250, max_depth=12, random_state=42)\n",
    "y_probas_forest = cross_val_predict(forest_clf, X_train, y_train_5, cv=3, \n",
    "                                    method = \"predict_proba\")"
   ]
  },
  {
   "cell_type": "code",
   "execution_count": null,
   "metadata": {},
   "outputs": [],
   "source": [
    "from sklearn.metrics import roc_auc_score\n",
    "roc_auc_score(y_train_5, y_scores)"
   ]
  },
  {
   "cell_type": "code",
   "execution_count": null,
   "metadata": {},
   "outputs": [],
   "source": [
    "y_scores_forest = y_probas_forest[:,1] # score = probab of positive class\n",
    "fpr_forest, tpr_forest, thresholds_forest = roc_curve(y_train_5, y_scores_forest)"
   ]
  },
  {
   "cell_type": "code",
   "execution_count": null,
   "metadata": {},
   "outputs": [],
   "source": [
    "plt.plot(fpr, tpr, \"b:\", label=\"RF\")\n",
    "plot_roc_curve(fpr_forest, tpr_forest, \"Random Forest\")\n",
    "plt.legend(loc=\"lower right\")\n",
    "plt.show()"
   ]
  },
  {
   "cell_type": "code",
   "execution_count": null,
   "metadata": {},
   "outputs": [],
   "source": [
    "y_prob_predict = (y_scores_forest > .5)"
   ]
  },
  {
   "cell_type": "code",
   "execution_count": null,
   "metadata": {},
   "outputs": [],
   "source": [
    "precision_score(y_train_5, y_prob_predict)"
   ]
  },
  {
   "cell_type": "code",
   "execution_count": null,
   "metadata": {},
   "outputs": [],
   "source": [
    "recall_score(y_train_5, y_prob_predict)"
   ]
  },
  {
   "cell_type": "code",
   "execution_count": null,
   "metadata": {},
   "outputs": [],
   "source": [
    "y_probas_forest_pred = cross_val_predict(forest_clf, X_train, y_train_5, cv=3)"
   ]
  },
  {
   "cell_type": "code",
   "execution_count": null,
   "metadata": {},
   "outputs": [],
   "source": [
    "precision_score(y_train_5, y_probas_forest_pred)"
   ]
  },
  {
   "cell_type": "code",
   "execution_count": null,
   "metadata": {},
   "outputs": [],
   "source": [
    "recall_score(y_train_5, y_probas_forest_pred)"
   ]
  },
  {
   "cell_type": "code",
   "execution_count": null,
   "metadata": {},
   "outputs": [],
   "source": [
    "forest_clf.fit(X_train, y_train)\n",
    "forest_clf.predict([some_digit])"
   ]
  },
  {
   "cell_type": "code",
   "execution_count": null,
   "metadata": {},
   "outputs": [],
   "source": []
  },
  {
   "cell_type": "code",
   "execution_count": null,
   "metadata": {},
   "outputs": [],
   "source": []
  },
  {
   "cell_type": "code",
   "execution_count": null,
   "metadata": {},
   "outputs": [],
   "source": []
  },
  {
   "cell_type": "code",
   "execution_count": 15,
   "metadata": {},
   "outputs": [],
   "source": [
    "x=np.zeros((5,5,4))"
   ]
  },
  {
   "cell_type": "code",
   "execution_count": 14,
   "metadata": {},
   "outputs": [
    {
     "data": {
      "text/plain": [
       "array([0., 0., 0., 0., 0., 0., 0., 0., 0., 0., 0., 0., 0., 0., 0., 0., 0.,\n",
       "       0., 0., 0., 0., 0., 0., 0., 0., 0., 0., 0., 0., 0., 0., 0., 0., 0.,\n",
       "       0., 0., 0., 0., 0., 0., 0., 0., 0., 0., 0., 0., 0., 0., 0., 0., 0.,\n",
       "       0., 0., 0., 0., 0., 0., 0., 0., 0., 0., 0., 0., 0., 0., 0., 0., 0.,\n",
       "       0., 0., 0., 0., 0., 0., 0., 0., 0., 0., 0., 0., 0., 0., 0., 0., 0.,\n",
       "       0., 0., 0., 0., 0., 0., 0., 0., 0., 0., 0., 0., 0., 0., 0.])"
      ]
     },
     "execution_count": 14,
     "metadata": {},
     "output_type": "execute_result"
    }
   ],
   "source": [
    "x.reshape(-1)"
   ]
  },
  {
   "cell_type": "code",
   "execution_count": 16,
   "metadata": {},
   "outputs": [
    {
     "data": {
      "text/plain": [
       "array([2, 2, 1, 2, 1])"
      ]
     },
     "execution_count": 16,
     "metadata": {},
     "output_type": "execute_result"
    }
   ],
   "source": [
    "np.random.randint(0,3,5)"
   ]
  },
  {
   "cell_type": "code",
   "execution_count": null,
   "metadata": {},
   "outputs": [],
   "source": []
  },
  {
   "cell_type": "code",
   "execution_count": null,
   "metadata": {},
   "outputs": [],
   "source": []
  },
  {
   "cell_type": "code",
   "execution_count": null,
   "metadata": {},
   "outputs": [],
   "source": []
  },
  {
   "cell_type": "code",
   "execution_count": null,
   "metadata": {},
   "outputs": [],
   "source": []
  },
  {
   "cell_type": "code",
   "execution_count": null,
   "metadata": {},
   "outputs": [],
   "source": []
  },
  {
   "cell_type": "code",
   "execution_count": null,
   "metadata": {},
   "outputs": [],
   "source": [
    "\n",
    "# Optimization\n",
    "parameter_gridsearch = {\n",
    "                 'max_depth' : [3, 4],  #depth of each decision tree\n",
    "                 'n_estimators': [50, 20],  #count of decision tree\n",
    "                 'max_features': ['sqrt', 'auto', 'log2'],      \n",
    "                 'min_samples_split': [2],      \n",
    "                 'min_samples_leaf': [1, 3, 4],\n",
    "                 'bootstrap': [True, False],\n",
    "                 }\n",
    "# RF classification\n",
    "\n",
    "randomforest = randomForestClassifier()\n",
    "crossvalidation = StratifiedKFold(train[0::,0] , n_folds=5)\n",
    "\n",
    "gridsearch = GridSearchCV(randomforest,             #grid search for algorithm optimization\n",
    "                               scoring='accuracy',\n",
    "                               param_grid=parameter_gridsearch,\n",
    "                               cv=crossvalidation)\n",
    "\n",
    "\n",
    "#gridsearch.fit(train[0::,1::], train[0::,0])    #train[0::,0] is as target\n",
    "gridsearch.fit(train[0::,1::], train[0::,0])    #train[0::,0] is as target\n",
    "model = gridsearch\n",
    "parameters = gridsearch.best_params_"
   ]
  },
  {
   "cell_type": "code",
   "execution_count": null,
   "metadata": {},
   "outputs": [],
   "source": []
  }
 ],
 "metadata": {
  "kernelspec": {
   "display_name": "Python 3",
   "language": "python",
   "name": "python3"
  },
  "language_info": {
   "codemirror_mode": {
    "name": "ipython",
    "version": 3
   },
   "file_extension": ".py",
   "mimetype": "text/x-python",
   "name": "python",
   "nbconvert_exporter": "python",
   "pygments_lexer": "ipython3",
   "version": "3.9.2"
  }
 },
 "nbformat": 4,
 "nbformat_minor": 4
}
